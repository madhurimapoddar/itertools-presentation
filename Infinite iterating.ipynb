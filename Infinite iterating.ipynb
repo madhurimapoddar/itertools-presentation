{
 "metadata": {
  "name": ""
 },
 "nbformat": 3,
 "nbformat_minor": 0,
 "worksheets": [
  {
   "cells": [
    {
     "cell_type": "heading",
     "level": 1,
     "metadata": {},
     "source": [
      "Infinite Iterators"
     ]
    },
    {
     "cell_type": "markdown",
     "metadata": {},
     "source": [
      "## Count()\n",
      "\n",
      "* **Iterator : ** count()\n",
      "* **Arguments : ** [start[, step]]\n",
      "*  Default step =1\n",
      "* **Outputs : ** start, start+step, start+2xstep, start+3xstep, ...\n",
      "* **Example : ** count(10) --> 10 11 12 13 14 ..."
     ]
    },
    {
     "cell_type": "markdown",
     "metadata": {},
     "source": [
      "## Cycle()\n",
      "\n",
      "* **Iterator : ** cycle()\n",
      "* **Arguments : ** sequence\n",
      "* **Example : ** cycle('ABCD') --> A B C D A B C .."
     ]
    },
    {
     "cell_type": "markdown",
     "metadata": {},
     "source": [
      "## Repeat()\n",
      "\n",
      "* **Iterator : ** repeat()\n",
      "* **Arguments : ** [element[, times_to_repeat]]"
     ]
    },
    {
     "cell_type": "code",
     "collapsed": false,
     "input": [
      "from itertools import repeat\n",
      "list(repeat(12, 3));"
     ],
     "language": "python",
     "metadata": {},
     "outputs": [],
     "prompt_number": 2
    }
   ],
   "metadata": {}
  }
 ]
}
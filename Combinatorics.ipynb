{
 "metadata": {
  "name": ""
 },
 "nbformat": 3,
 "nbformat_minor": 0,
 "worksheets": [
  {
   "cells": [
    {
     "cell_type": "heading",
     "level": 1,
     "metadata": {},
     "source": [
      "Combinatorics"
     ]
    },
    {
     "cell_type": "markdown",
     "metadata": {},
     "source": [
      "**Iterator : ** product(), **Arguments : ** [p, q, ... [repeat=1]], **Output : ** cartesian product, equivalent to a nested for-loop"
     ]
    },
    {
     "cell_type": "code",
     "collapsed": false,
     "input": [
      "from itertools import product\n",
      "list(product('ab', 'cd'));"
     ],
     "language": "python",
     "metadata": {},
     "outputs": [],
     "prompt_number": 13
    },
    {
     "cell_type": "markdown",
     "metadata": {},
     "source": [
      "**Iterator : ** combinations(), **Arguments : ** [p, r], **Output : ** r-length tuples, in sorted order, no repeated elements"
     ]
    },
    {
     "cell_type": "code",
     "collapsed": false,
     "input": [
      "from itertools import combinations\n",
      "#n!/(r!*(n-r)!)\n",
      "list(combinations('ABCD', 2));"
     ],
     "language": "python",
     "metadata": {},
     "outputs": [],
     "prompt_number": 14
    },
    {
     "cell_type": "markdown",
     "metadata": {},
     "source": [
      "**Iterator : ** permutations(), **Arguments : ** [p[, r]], **Output : ** r-length tuples, all possible orderings, no repeated elements"
     ]
    },
    {
     "cell_type": "code",
     "collapsed": false,
     "input": [
      "from itertools import permutations\n",
      "#n!/(n-r)!\n",
      "list(permutations('ABCD', 2));\n"
     ],
     "language": "python",
     "metadata": {},
     "outputs": [],
     "prompt_number": 15
    },
    {
     "cell_type": "markdown",
     "metadata": {},
     "source": [
      "**Iterator : ** izip_longest(), **Arguments : ** [p, r], **Output : ** tuple of p[0], q[0]"
     ]
    },
    {
     "cell_type": "code",
     "collapsed": false,
     "input": [
      "from itertools import izip_longest, repeat\n",
      "import string\n",
      "\n",
      "def build_group(size, iterable, fill=None):\n",
      "    seq = repeat(iter(iterable), size)\n",
      "    return izip_longest(*seq, fillvalue=fill)\n",
      "list(build_group(3, string.ascii_lowercase));\n",
      "    "
     ],
     "language": "python",
     "metadata": {},
     "outputs": [],
     "prompt_number": 26
    },
    {
     "cell_type": "code",
     "collapsed": false,
     "input": [
      "**Iterator : ** chain(), **Arguments : ** [p, q], **Output : ** pq"
     ],
     "language": "python",
     "metadata": {},
     "outputs": [],
     "prompt_number": 25
    },
    {
     "cell_type": "code",
     "collapsed": false,
     "input": [
      "from itertools import chain\n",
      "nested_list = [[1,2,3],[1],[4,6]]\n",
      "list(chain.from_iterable(nested_list));"
     ],
     "language": "python",
     "metadata": {},
     "outputs": [],
     "prompt_number": 28
    }
   ],
   "metadata": {}
  }
 ]
}
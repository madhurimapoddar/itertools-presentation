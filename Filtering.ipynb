{
 "metadata": {
  "name": ""
 },
 "nbformat": 3,
 "nbformat_minor": 0,
 "worksheets": [
  {
   "cells": [
    {
     "cell_type": "heading",
     "level": 1,
     "metadata": {},
     "source": [
      "Filtering"
     ]
    },
    {
     "cell_type": "markdown",
     "metadata": {},
     "source": [
      "**Iterator : ** ifilter(), **Arguments : ** [predicate, seq], **Output : ** Filters predicate == True"
     ]
    },
    {
     "cell_type": "code",
     "collapsed": false,
     "input": [
      "from itertools import ifilter\n",
      "list(ifilter(lambda x: x%2, range(15)));"
     ],
     "language": "python",
     "metadata": {},
     "outputs": [],
     "prompt_number": 1
    },
    {
     "cell_type": "code",
     "collapsed": false,
     "input": [
      "list(ifilter(lambda x: x>5, range(15)));"
     ],
     "language": "python",
     "metadata": {},
     "outputs": [],
     "prompt_number": 2
    },
    {
     "cell_type": "code",
     "collapsed": false,
     "input": [
      "list(ifilter(lambda x: type(x)==str, [1, 2, 3, 'abc', 'c', 'name', 45, '34']));"
     ],
     "language": "python",
     "metadata": {},
     "outputs": [],
     "prompt_number": 3
    },
    {
     "cell_type": "markdown",
     "metadata": {},
     "source": [
      "**Iterator : ** ifilterfalse(), **Arguments : ** [predicate, seq], **Output : ** Filters predicate == False"
     ]
    },
    {
     "cell_type": "code",
     "collapsed": false,
     "input": [
      "from itertools import ifilterfalse\n",
      "list(ifilterfalse(lambda x: x%2, range(15)));"
     ],
     "language": "python",
     "metadata": {},
     "outputs": [],
     "prompt_number": 4
    },
    {
     "cell_type": "markdown",
     "metadata": {},
     "source": [
      "**Iterator : ** dropwhile(), **Arguments : ** [predicate, seq], **Output : ** Starts when predicate fails"
     ]
    },
    {
     "cell_type": "code",
     "collapsed": false,
     "input": [
      "from itertools import dropwhile\n",
      "list(dropwhile(lambda x: x<5, [1,3,4,5,6,4,1]));"
     ],
     "language": "python",
     "metadata": {},
     "outputs": [],
     "prompt_number": 5
    },
    {
     "cell_type": "markdown",
     "metadata": {},
     "source": [
      "**Iterator : ** takewhile(), **Arguments : ** [predicate, seq], **Output : ** Continue until predicate fails"
     ]
    },
    {
     "cell_type": "code",
     "collapsed": false,
     "input": [
      "from itertools import takewhile\n",
      "list(takewhile(lambda x: x<5, [1,4,2,6,4,1]));"
     ],
     "language": "python",
     "metadata": {},
     "outputs": [],
     "prompt_number": 6
    }
   ],
   "metadata": {}
  }
 ]
}
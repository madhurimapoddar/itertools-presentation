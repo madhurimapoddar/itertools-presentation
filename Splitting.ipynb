{
 "metadata": {
  "name": ""
 },
 "nbformat": 3,
 "nbformat_minor": 0,
 "worksheets": [
  {
   "cells": [
    {
     "cell_type": "heading",
     "level": 1,
     "metadata": {},
     "source": [
      "Splitting"
     ]
    },
    {
     "cell_type": "markdown",
     "metadata": {},
     "source": [
      "**Iterator : ** groupby(), **Arguments : ** [iterable[, keyfunc]], **Output : ** Data grouped by keyfunc"
     ]
    },
    {
     "cell_type": "code",
     "collapsed": false,
     "input": [
      "from itertools import groupby\n",
      "\n",
      "things = [(\"Tom\", \"Peters\"), (\"Tom\", \"Swayer\"), (\"Chris\", \"Anderson\"), (\"Harry\", \"Potter\"), (\"Chris\", \"Williams\")]\n",
      "\n",
      "key_func = lambda x: x[0];\n",
      "for key, group in groupby(sorted(things, key=key_func), key_func):\n",
      "    l = [thing[1] for thing in group]\n",
      "    #print l"
     ],
     "language": "python",
     "metadata": {},
     "outputs": [],
     "prompt_number": 11
    },
    {
     "cell_type": "markdown",
     "metadata": {},
     "source": [
      "**Iterator : ** tee(), **Arguments : ** [iterator, n], **Output : ** One iterator split into n iterator objects"
     ]
    },
    {
     "cell_type": "code",
     "collapsed": false,
     "input": [
      "from itertools import tee\n",
      "list(tee('123', 2));"
     ],
     "language": "python",
     "metadata": {},
     "outputs": [],
     "prompt_number": 10
    }
   ],
   "metadata": {}
  }
 ]
}
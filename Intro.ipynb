{
 "metadata": {
  "name": ""
 },
 "nbformat": 3,
 "nbformat_minor": 0,
 "worksheets": [
  {
   "cells": [
    {
     "cell_type": "markdown",
     "metadata": {},
     "source": [
      "# PythonKC - August 2013 - Module of the Month - Itertools \n",
      "\n",
      "## What is itertools?\n",
      "\n",
      "* Module with a set of functions for working with iterables (sequence-like) data sets.\n",
      "* Iterator functions for efficient looping.\n",
      "\n",
      "## Why use it?\n",
      "\n",
      "* Fast, uses memory efficiently\n",
      "* Helpful in simplifying complex iteration based algorithms\n",
      "* Increased performance with large data sets\n",
      "* Succinct code\n",
      "\n",
      "## What all can be done?\n",
      "\n",
      "* Slicing\n",
      "* Filtering\n",
      "* Combinatorics\n",
      "* Infinite iterating\n",
      "* Splitting\n",
      "\n",
      "## Reference\n",
      "\n",
      "* [Python docs](http://docs.python.org/2/library/itertools.html)\n"
     ]
    },
    {
     "cell_type": "markdown",
     "metadata": {},
     "source": []
    }
   ],
   "metadata": {}
  }
 ]
}